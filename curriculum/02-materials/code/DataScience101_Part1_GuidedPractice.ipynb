{
 "cells": [
  {
   "cell_type": "markdown",
   "metadata": {},
   "source": [
    "# Data Science 101 - Guided Practice"
   ]
  },
  {
   "cell_type": "markdown",
   "metadata": {},
   "source": [
    "Dr J Rogel-Salazar\n",
    "\n",
    "[j.rogel.datascience@gmail.com](mailto:j.rogel.datascience@gmail.com)"
   ]
  },
  {
   "cell_type": "markdown",
   "metadata": {},
   "source": [
    "Imagine that after you are working as a sales analyst for a brand with presence in the US.\n",
    "\n",
    "You are asked to look at regional sales data from your vendors and you want to use your newly acquired Python skills...\n",
    "\n",
    "For this guided practice we will create some fake data related to the average income and population of some cities in the US. \n",
    "\n",
    "We will apply the python knowledge we have acquired and see how some popular modules such as pandas, numpy and matplotlib are used."
   ]
  },
  {
   "cell_type": "markdown",
   "metadata": {},
   "source": [
    "We can use the Jupyter interface to invoke functionality from the terminal.\n",
    "\n",
    "For example, we can list the files under the current directory as follows:"
   ]
  },
  {
   "cell_type": "code",
   "execution_count": null,
   "metadata": {},
   "outputs": [],
   "source": [
    "!ls"
   ]
  },
  {
   "cell_type": "markdown",
   "metadata": {},
   "source": [
    "# Importing packages and modules\n",
    "\n",
    "Let us start by importing packages and modules that will be used in this practice.\n",
    "\n",
    "We will make use of a functions to calculate the average. This is included in the NumPy module.\n",
    "\n",
    "Also we will use pandas to manipulate data organised in a table format. We call this a *dataframe*."
   ]
  },
  {
   "cell_type": "code",
   "execution_count": 1,
   "metadata": {},
   "outputs": [],
   "source": [
    "import numpy as np\n",
    "import pandas as pd"
   ]
  },
  {
   "cell_type": "markdown",
   "metadata": {},
   "source": [
    "We will also import a functionality to emable us to show plots in the notebook."
   ]
  },
  {
   "cell_type": "code",
   "execution_count": 2,
   "metadata": {},
   "outputs": [
    {
     "name": "stdout",
     "output_type": "stream",
     "text": [
      "Populating the interactive namespace from numpy and matplotlib\n"
     ]
    }
   ],
   "source": [
    "%pylab inline"
   ]
  },
  {
   "cell_type": "markdown",
   "metadata": {},
   "source": [
    "The code above specifies that figures should be shown `inline`, directly in the notebook. This is not available with the standard IPython interpreter.\n",
    "\n",
    "We need to `import` all these libraries at the beginning of the notebook so that they are ready to be used later on. \n",
    "\n",
    "Remember our discussion about algorithms? The logical order of the steps we use to complete a task is important!"
   ]
  },
  {
   "cell_type": "markdown",
   "metadata": {},
   "source": [
    "Let us define some lists that can be used to create a pandas dataframe. Let us start by listing the different cities we are interested in:\n"
   ]
  },
  {
   "cell_type": "code",
   "execution_count": 3,
   "metadata": {},
   "outputs": [],
   "source": [
    "cities  = pd.Series(['Atlanta','Lilburn','Athens',\n",
    "                     'Auburn','Augusta','NYC','Buffalo','Albany',\n",
    "                     'Miami','Tallahassee'])"
   ]
  },
  {
   "cell_type": "markdown",
   "metadata": {},
   "source": [
    "Now the states where these cities are:"
   ]
  },
  {
   "cell_type": "code",
   "execution_count": 4,
   "metadata": {
    "collapsed": true
   },
   "outputs": [],
   "source": [
    "states = pd.Series(['GA','GA','GA','GA','GA',\n",
    "                    \"NY\",\"NY\",\"NY\",\"FL\",\"FL\"])"
   ]
  },
  {
   "cell_type": "markdown",
   "metadata": {},
   "source": [
    "Let us now list the average income and population for the cities in question:"
   ]
  },
  {
   "cell_type": "code",
   "execution_count": 5,
   "metadata": {},
   "outputs": [],
   "source": [
    "city_avg_incomes = pd.Series([55000,40000,50000,45000,\n",
    "                              30000,60000,57000,56000,65000,40000])\n",
    "\n",
    "city_populations = pd.Series([5000000,250000,100000,\n",
    "                              50000, 200000,6000000,3000000,400000,\n",
    "                              4000000,5000000])"
   ]
  },
  {
   "cell_type": "markdown",
   "metadata": {},
   "source": [
    "<div class=\"alert alert-block alert-info\"><h3>Question</h3></div>\n",
    "Have you noticed that we are using lists to create the series expected by pandas?\n"
   ]
  },
  {
   "cell_type": "markdown",
   "metadata": {},
   "source": [
    "# Pandas dataframe"
   ]
  },
  {
   "cell_type": "markdown",
   "metadata": {},
   "source": [
    "We are now ready to put all the information above in a single dataframe:\n"
   ]
  },
  {
   "cell_type": "code",
   "execution_count": 6,
   "metadata": {
    "collapsed": true
   },
   "outputs": [],
   "source": [
    "city_table = pd.DataFrame( {'cities': cities,  \n",
    "             'states': states,\n",
    "             'city_avg_incomes':city_avg_incomes,\n",
    "             'city_populations':city_populations\n",
    "              } )"
   ]
  },
  {
   "cell_type": "markdown",
   "metadata": {},
   "source": [
    "<div class=\"alert alert-block alert-info\"><h3>Question</h3></div>\n",
    "\n",
    "\n",
    "Do you remember what is the syntax to define a dictionary in Python?"
   ]
  },
  {
   "cell_type": "markdown",
   "metadata": {},
   "source": [
    "# Looking at the Dataframe"
   ]
  },
  {
   "cell_type": "markdown",
   "metadata": {},
   "source": [
    "Let us take a look at the first 6 entries:"
   ]
  },
  {
   "cell_type": "code",
   "execution_count": 7,
   "metadata": {},
   "outputs": [
    {
     "data": {
      "text/html": [
       "<div>\n",
       "<style>\n",
       "    .dataframe thead tr:only-child th {\n",
       "        text-align: right;\n",
       "    }\n",
       "\n",
       "    .dataframe thead th {\n",
       "        text-align: left;\n",
       "    }\n",
       "\n",
       "    .dataframe tbody tr th {\n",
       "        vertical-align: top;\n",
       "    }\n",
       "</style>\n",
       "<table border=\"1\" class=\"dataframe\">\n",
       "  <thead>\n",
       "    <tr style=\"text-align: right;\">\n",
       "      <th></th>\n",
       "      <th>cities</th>\n",
       "      <th>city_avg_incomes</th>\n",
       "      <th>city_populations</th>\n",
       "      <th>states</th>\n",
       "    </tr>\n",
       "  </thead>\n",
       "  <tbody>\n",
       "    <tr>\n",
       "      <th>0</th>\n",
       "      <td>Atlanta</td>\n",
       "      <td>55000</td>\n",
       "      <td>5000000</td>\n",
       "      <td>GA</td>\n",
       "    </tr>\n",
       "    <tr>\n",
       "      <th>1</th>\n",
       "      <td>Lilburn</td>\n",
       "      <td>40000</td>\n",
       "      <td>250000</td>\n",
       "      <td>GA</td>\n",
       "    </tr>\n",
       "    <tr>\n",
       "      <th>2</th>\n",
       "      <td>Athens</td>\n",
       "      <td>50000</td>\n",
       "      <td>100000</td>\n",
       "      <td>GA</td>\n",
       "    </tr>\n",
       "    <tr>\n",
       "      <th>3</th>\n",
       "      <td>Auburn</td>\n",
       "      <td>45000</td>\n",
       "      <td>50000</td>\n",
       "      <td>GA</td>\n",
       "    </tr>\n",
       "    <tr>\n",
       "      <th>4</th>\n",
       "      <td>Augusta</td>\n",
       "      <td>30000</td>\n",
       "      <td>200000</td>\n",
       "      <td>GA</td>\n",
       "    </tr>\n",
       "  </tbody>\n",
       "</table>\n",
       "</div>"
      ],
      "text/plain": [
       "    cities  city_avg_incomes  city_populations states\n",
       "0  Atlanta             55000           5000000     GA\n",
       "1  Lilburn             40000            250000     GA\n",
       "2   Athens             50000            100000     GA\n",
       "3   Auburn             45000             50000     GA\n",
       "4  Augusta             30000            200000     GA"
      ]
     },
     "execution_count": 7,
     "metadata": {},
     "output_type": "execute_result"
    }
   ],
   "source": [
    "city_table.head()"
   ]
  },
  {
   "cell_type": "markdown",
   "metadata": {},
   "source": [
    "# Manipulating the data "
   ]
  },
  {
   "cell_type": "markdown",
   "metadata": {},
   "source": [
    "We can create a column to state the population in millions and another one for the income in thousands. \n",
    "\n",
    "Let us define a function that formats a number in terms of millions\n",
    "\n",
    "<div class=\"alert alert-block alert-info\"><h3>Question</h3></div>\n",
    "\n",
    "\n",
    "Do you remember how to define a function in Python?"
   ]
  },
  {
   "cell_type": "code",
   "execution_count": 8,
   "metadata": {
    "collapsed": true
   },
   "outputs": [],
   "source": [
    "def FormatMillions(x):\n",
    "    return x/1000000.0"
   ]
  },
  {
   "cell_type": "markdown",
   "metadata": {},
   "source": [
    "We can now \"apply\" this function to one of the columns of our dataframe to create a new column:"
   ]
  },
  {
   "cell_type": "code",
   "execution_count": 9,
   "metadata": {},
   "outputs": [],
   "source": [
    "city_table['pop_in_millions'] = city_table['city_populations'].apply(FormatMillions)"
   ]
  },
  {
   "cell_type": "markdown",
   "metadata": {},
   "source": [
    "Let us do something similar for the incomes, but format the numbers in terms of thousands. "
   ]
  },
  {
   "cell_type": "code",
   "execution_count": 10,
   "metadata": {
    "collapsed": true
   },
   "outputs": [],
   "source": [
    "def FormatThousands(x):\n",
    "    return x/1000.0"
   ]
  },
  {
   "cell_type": "code",
   "execution_count": 11,
   "metadata": {},
   "outputs": [],
   "source": [
    "city_table['income_in_k'] =city_table['city_avg_incomes'].apply(FormatThousands)"
   ]
  },
  {
   "cell_type": "markdown",
   "metadata": {},
   "source": [
    "Let us see the result:"
   ]
  },
  {
   "cell_type": "code",
   "execution_count": 12,
   "metadata": {},
   "outputs": [
    {
     "data": {
      "text/html": [
       "<div>\n",
       "<style>\n",
       "    .dataframe thead tr:only-child th {\n",
       "        text-align: right;\n",
       "    }\n",
       "\n",
       "    .dataframe thead th {\n",
       "        text-align: left;\n",
       "    }\n",
       "\n",
       "    .dataframe tbody tr th {\n",
       "        vertical-align: top;\n",
       "    }\n",
       "</style>\n",
       "<table border=\"1\" class=\"dataframe\">\n",
       "  <thead>\n",
       "    <tr style=\"text-align: right;\">\n",
       "      <th></th>\n",
       "      <th>cities</th>\n",
       "      <th>city_avg_incomes</th>\n",
       "      <th>city_populations</th>\n",
       "      <th>states</th>\n",
       "      <th>pop_in_millions</th>\n",
       "      <th>income_in_k</th>\n",
       "    </tr>\n",
       "  </thead>\n",
       "  <tbody>\n",
       "    <tr>\n",
       "      <th>0</th>\n",
       "      <td>Atlanta</td>\n",
       "      <td>55000</td>\n",
       "      <td>5000000</td>\n",
       "      <td>GA</td>\n",
       "      <td>5.00</td>\n",
       "      <td>55.0</td>\n",
       "    </tr>\n",
       "    <tr>\n",
       "      <th>1</th>\n",
       "      <td>Lilburn</td>\n",
       "      <td>40000</td>\n",
       "      <td>250000</td>\n",
       "      <td>GA</td>\n",
       "      <td>0.25</td>\n",
       "      <td>40.0</td>\n",
       "    </tr>\n",
       "    <tr>\n",
       "      <th>2</th>\n",
       "      <td>Athens</td>\n",
       "      <td>50000</td>\n",
       "      <td>100000</td>\n",
       "      <td>GA</td>\n",
       "      <td>0.10</td>\n",
       "      <td>50.0</td>\n",
       "    </tr>\n",
       "    <tr>\n",
       "      <th>3</th>\n",
       "      <td>Auburn</td>\n",
       "      <td>45000</td>\n",
       "      <td>50000</td>\n",
       "      <td>GA</td>\n",
       "      <td>0.05</td>\n",
       "      <td>45.0</td>\n",
       "    </tr>\n",
       "    <tr>\n",
       "      <th>4</th>\n",
       "      <td>Augusta</td>\n",
       "      <td>30000</td>\n",
       "      <td>200000</td>\n",
       "      <td>GA</td>\n",
       "      <td>0.20</td>\n",
       "      <td>30.0</td>\n",
       "    </tr>\n",
       "  </tbody>\n",
       "</table>\n",
       "</div>"
      ],
      "text/plain": [
       "    cities  city_avg_incomes  city_populations states  pop_in_millions  \\\n",
       "0  Atlanta             55000           5000000     GA             5.00   \n",
       "1  Lilburn             40000            250000     GA             0.25   \n",
       "2   Athens             50000            100000     GA             0.10   \n",
       "3   Auburn             45000             50000     GA             0.05   \n",
       "4  Augusta             30000            200000     GA             0.20   \n",
       "\n",
       "   income_in_k  \n",
       "0         55.0  \n",
       "1         40.0  \n",
       "2         50.0  \n",
       "3         45.0  \n",
       "4         30.0  "
      ]
     },
     "execution_count": 12,
     "metadata": {},
     "output_type": "execute_result"
    }
   ],
   "source": [
    "city_table.head()"
   ]
  },
  {
   "cell_type": "markdown",
   "metadata": {},
   "source": [
    "<div class=\"alert alert-block alert-info\"><h3>Question</h3></div>\n",
    "\n",
    "Why do you think are the functions above useful for?"
   ]
  },
  {
   "cell_type": "markdown",
   "metadata": {},
   "source": [
    "# Data undestanding"
   ]
  },
  {
   "cell_type": "markdown",
   "metadata": {},
   "source": [
    "How many columns and rows do we have in the dataframe?"
   ]
  },
  {
   "cell_type": "code",
   "execution_count": 13,
   "metadata": {},
   "outputs": [
    {
     "data": {
      "text/plain": [
       "(10, 6)"
      ]
     },
     "execution_count": 13,
     "metadata": {},
     "output_type": "execute_result"
    }
   ],
   "source": [
    "city_table.shape"
   ]
  },
  {
   "cell_type": "markdown",
   "metadata": {},
   "source": [
    "We have 10 records (rows) and 6 fields (columns)"
   ]
  },
  {
   "cell_type": "markdown",
   "metadata": {},
   "source": [
    "Let us select some of the data points. For instance the first 4 entreos for population and income."
   ]
  },
  {
   "cell_type": "code",
   "execution_count": 14,
   "metadata": {},
   "outputs": [
    {
     "data": {
      "text/html": [
       "<div>\n",
       "<style>\n",
       "    .dataframe thead tr:only-child th {\n",
       "        text-align: right;\n",
       "    }\n",
       "\n",
       "    .dataframe thead th {\n",
       "        text-align: left;\n",
       "    }\n",
       "\n",
       "    .dataframe tbody tr th {\n",
       "        vertical-align: top;\n",
       "    }\n",
       "</style>\n",
       "<table border=\"1\" class=\"dataframe\">\n",
       "  <thead>\n",
       "    <tr style=\"text-align: right;\">\n",
       "      <th></th>\n",
       "      <th>pop_in_millions</th>\n",
       "      <th>income_in_k</th>\n",
       "    </tr>\n",
       "  </thead>\n",
       "  <tbody>\n",
       "    <tr>\n",
       "      <th>0</th>\n",
       "      <td>5.00</td>\n",
       "      <td>55.0</td>\n",
       "    </tr>\n",
       "    <tr>\n",
       "      <th>1</th>\n",
       "      <td>0.25</td>\n",
       "      <td>40.0</td>\n",
       "    </tr>\n",
       "    <tr>\n",
       "      <th>2</th>\n",
       "      <td>0.10</td>\n",
       "      <td>50.0</td>\n",
       "    </tr>\n",
       "    <tr>\n",
       "      <th>3</th>\n",
       "      <td>0.05</td>\n",
       "      <td>45.0</td>\n",
       "    </tr>\n",
       "  </tbody>\n",
       "</table>\n",
       "</div>"
      ],
      "text/plain": [
       "   pop_in_millions  income_in_k\n",
       "0             5.00         55.0\n",
       "1             0.25         40.0\n",
       "2             0.10         50.0\n",
       "3             0.05         45.0"
      ]
     },
     "execution_count": 14,
     "metadata": {},
     "output_type": "execute_result"
    }
   ],
   "source": [
    "city_table[0:4][[\"pop_in_millions\",'income_in_k']]"
   ]
  },
  {
   "cell_type": "markdown",
   "metadata": {},
   "source": [
    "We can select some data based on conditionals. For instance let us show only those records where the income is greater than 30l."
   ]
  },
  {
   "cell_type": "code",
   "execution_count": 15,
   "metadata": {},
   "outputs": [
    {
     "data": {
      "text/html": [
       "<div>\n",
       "<style>\n",
       "    .dataframe thead tr:only-child th {\n",
       "        text-align: right;\n",
       "    }\n",
       "\n",
       "    .dataframe thead th {\n",
       "        text-align: left;\n",
       "    }\n",
       "\n",
       "    .dataframe tbody tr th {\n",
       "        vertical-align: top;\n",
       "    }\n",
       "</style>\n",
       "<table border=\"1\" class=\"dataframe\">\n",
       "  <thead>\n",
       "    <tr style=\"text-align: right;\">\n",
       "      <th></th>\n",
       "      <th>cities</th>\n",
       "      <th>city_avg_incomes</th>\n",
       "      <th>city_populations</th>\n",
       "      <th>states</th>\n",
       "      <th>pop_in_millions</th>\n",
       "      <th>income_in_k</th>\n",
       "    </tr>\n",
       "  </thead>\n",
       "  <tbody>\n",
       "    <tr>\n",
       "      <th>4</th>\n",
       "      <td>Augusta</td>\n",
       "      <td>30000</td>\n",
       "      <td>200000</td>\n",
       "      <td>GA</td>\n",
       "      <td>0.2</td>\n",
       "      <td>30.0</td>\n",
       "    </tr>\n",
       "  </tbody>\n",
       "</table>\n",
       "</div>"
      ],
      "text/plain": [
       "    cities  city_avg_incomes  city_populations states  pop_in_millions  \\\n",
       "4  Augusta             30000            200000     GA              0.2   \n",
       "\n",
       "   income_in_k  \n",
       "4         30.0  "
      ]
     },
     "execution_count": 15,
     "metadata": {},
     "output_type": "execute_result"
    }
   ],
   "source": [
    "city_table[(city_table['income_in_k']<=30)]"
   ]
  },
  {
   "cell_type": "markdown",
   "metadata": {},
   "source": [
    "As we can see, only Augusta meets the condition."
   ]
  },
  {
   "cell_type": "markdown",
   "metadata": {},
   "source": [
    "We can order the data. Let us order the dataframe in descending order by the population in millions."
   ]
  },
  {
   "cell_type": "code",
   "execution_count": 16,
   "metadata": {},
   "outputs": [
    {
     "data": {
      "text/html": [
       "<div>\n",
       "<style>\n",
       "    .dataframe thead tr:only-child th {\n",
       "        text-align: right;\n",
       "    }\n",
       "\n",
       "    .dataframe thead th {\n",
       "        text-align: left;\n",
       "    }\n",
       "\n",
       "    .dataframe tbody tr th {\n",
       "        vertical-align: top;\n",
       "    }\n",
       "</style>\n",
       "<table border=\"1\" class=\"dataframe\">\n",
       "  <thead>\n",
       "    <tr style=\"text-align: right;\">\n",
       "      <th></th>\n",
       "      <th>cities</th>\n",
       "      <th>city_avg_incomes</th>\n",
       "      <th>city_populations</th>\n",
       "      <th>states</th>\n",
       "      <th>pop_in_millions</th>\n",
       "      <th>income_in_k</th>\n",
       "    </tr>\n",
       "  </thead>\n",
       "  <tbody>\n",
       "    <tr>\n",
       "      <th>5</th>\n",
       "      <td>NYC</td>\n",
       "      <td>60000</td>\n",
       "      <td>6000000</td>\n",
       "      <td>NY</td>\n",
       "      <td>6.00</td>\n",
       "      <td>60.0</td>\n",
       "    </tr>\n",
       "    <tr>\n",
       "      <th>0</th>\n",
       "      <td>Atlanta</td>\n",
       "      <td>55000</td>\n",
       "      <td>5000000</td>\n",
       "      <td>GA</td>\n",
       "      <td>5.00</td>\n",
       "      <td>55.0</td>\n",
       "    </tr>\n",
       "    <tr>\n",
       "      <th>9</th>\n",
       "      <td>Tallahassee</td>\n",
       "      <td>40000</td>\n",
       "      <td>5000000</td>\n",
       "      <td>FL</td>\n",
       "      <td>5.00</td>\n",
       "      <td>40.0</td>\n",
       "    </tr>\n",
       "    <tr>\n",
       "      <th>8</th>\n",
       "      <td>Miami</td>\n",
       "      <td>65000</td>\n",
       "      <td>4000000</td>\n",
       "      <td>FL</td>\n",
       "      <td>4.00</td>\n",
       "      <td>65.0</td>\n",
       "    </tr>\n",
       "    <tr>\n",
       "      <th>6</th>\n",
       "      <td>Buffalo</td>\n",
       "      <td>57000</td>\n",
       "      <td>3000000</td>\n",
       "      <td>NY</td>\n",
       "      <td>3.00</td>\n",
       "      <td>57.0</td>\n",
       "    </tr>\n",
       "    <tr>\n",
       "      <th>7</th>\n",
       "      <td>Albany</td>\n",
       "      <td>56000</td>\n",
       "      <td>400000</td>\n",
       "      <td>NY</td>\n",
       "      <td>0.40</td>\n",
       "      <td>56.0</td>\n",
       "    </tr>\n",
       "    <tr>\n",
       "      <th>1</th>\n",
       "      <td>Lilburn</td>\n",
       "      <td>40000</td>\n",
       "      <td>250000</td>\n",
       "      <td>GA</td>\n",
       "      <td>0.25</td>\n",
       "      <td>40.0</td>\n",
       "    </tr>\n",
       "    <tr>\n",
       "      <th>4</th>\n",
       "      <td>Augusta</td>\n",
       "      <td>30000</td>\n",
       "      <td>200000</td>\n",
       "      <td>GA</td>\n",
       "      <td>0.20</td>\n",
       "      <td>30.0</td>\n",
       "    </tr>\n",
       "    <tr>\n",
       "      <th>2</th>\n",
       "      <td>Athens</td>\n",
       "      <td>50000</td>\n",
       "      <td>100000</td>\n",
       "      <td>GA</td>\n",
       "      <td>0.10</td>\n",
       "      <td>50.0</td>\n",
       "    </tr>\n",
       "    <tr>\n",
       "      <th>3</th>\n",
       "      <td>Auburn</td>\n",
       "      <td>45000</td>\n",
       "      <td>50000</td>\n",
       "      <td>GA</td>\n",
       "      <td>0.05</td>\n",
       "      <td>45.0</td>\n",
       "    </tr>\n",
       "  </tbody>\n",
       "</table>\n",
       "</div>"
      ],
      "text/plain": [
       "        cities  city_avg_incomes  city_populations states  pop_in_millions  \\\n",
       "5          NYC             60000           6000000     NY             6.00   \n",
       "0      Atlanta             55000           5000000     GA             5.00   \n",
       "9  Tallahassee             40000           5000000     FL             5.00   \n",
       "8        Miami             65000           4000000     FL             4.00   \n",
       "6      Buffalo             57000           3000000     NY             3.00   \n",
       "7       Albany             56000            400000     NY             0.40   \n",
       "1      Lilburn             40000            250000     GA             0.25   \n",
       "4      Augusta             30000            200000     GA             0.20   \n",
       "2       Athens             50000            100000     GA             0.10   \n",
       "3       Auburn             45000             50000     GA             0.05   \n",
       "\n",
       "   income_in_k  \n",
       "5         60.0  \n",
       "0         55.0  \n",
       "9         40.0  \n",
       "8         65.0  \n",
       "6         57.0  \n",
       "7         56.0  \n",
       "1         40.0  \n",
       "4         30.0  \n",
       "2         50.0  \n",
       "3         45.0  "
      ]
     },
     "execution_count": 16,
     "metadata": {},
     "output_type": "execute_result"
    }
   ],
   "source": [
    "city_table.sort_values('pop_in_millions', ascending=0)"
   ]
  },
  {
   "cell_type": "markdown",
   "metadata": {},
   "source": [
    "Finally, let us get a description of each of the numeric fields in the dataframe. We will be able to see the following statistics:\n",
    "\n",
    "- count of records\n",
    "- mean\n",
    "- standard deviation\n",
    "- minimum and maximum values\n",
    "- percentiles"
   ]
  },
  {
   "cell_type": "code",
   "execution_count": 17,
   "metadata": {},
   "outputs": [
    {
     "data": {
      "text/html": [
       "<div>\n",
       "<style>\n",
       "    .dataframe thead tr:only-child th {\n",
       "        text-align: right;\n",
       "    }\n",
       "\n",
       "    .dataframe thead th {\n",
       "        text-align: left;\n",
       "    }\n",
       "\n",
       "    .dataframe tbody tr th {\n",
       "        vertical-align: top;\n",
       "    }\n",
       "</style>\n",
       "<table border=\"1\" class=\"dataframe\">\n",
       "  <thead>\n",
       "    <tr style=\"text-align: right;\">\n",
       "      <th></th>\n",
       "      <th>city_avg_incomes</th>\n",
       "      <th>city_populations</th>\n",
       "      <th>pop_in_millions</th>\n",
       "      <th>income_in_k</th>\n",
       "    </tr>\n",
       "  </thead>\n",
       "  <tbody>\n",
       "    <tr>\n",
       "      <th>count</th>\n",
       "      <td>10.00000</td>\n",
       "      <td>1.000000e+01</td>\n",
       "      <td>10.000000</td>\n",
       "      <td>10.000000</td>\n",
       "    </tr>\n",
       "    <tr>\n",
       "      <th>mean</th>\n",
       "      <td>49800.00000</td>\n",
       "      <td>2.400000e+06</td>\n",
       "      <td>2.400000</td>\n",
       "      <td>49.800000</td>\n",
       "    </tr>\n",
       "    <tr>\n",
       "      <th>std</th>\n",
       "      <td>10850.49922</td>\n",
       "      <td>2.442107e+06</td>\n",
       "      <td>2.442107</td>\n",
       "      <td>10.850499</td>\n",
       "    </tr>\n",
       "    <tr>\n",
       "      <th>min</th>\n",
       "      <td>30000.00000</td>\n",
       "      <td>5.000000e+04</td>\n",
       "      <td>0.050000</td>\n",
       "      <td>30.000000</td>\n",
       "    </tr>\n",
       "    <tr>\n",
       "      <th>25%</th>\n",
       "      <td>41250.00000</td>\n",
       "      <td>2.125000e+05</td>\n",
       "      <td>0.212500</td>\n",
       "      <td>41.250000</td>\n",
       "    </tr>\n",
       "    <tr>\n",
       "      <th>50%</th>\n",
       "      <td>52500.00000</td>\n",
       "      <td>1.700000e+06</td>\n",
       "      <td>1.700000</td>\n",
       "      <td>52.500000</td>\n",
       "    </tr>\n",
       "    <tr>\n",
       "      <th>75%</th>\n",
       "      <td>56750.00000</td>\n",
       "      <td>4.750000e+06</td>\n",
       "      <td>4.750000</td>\n",
       "      <td>56.750000</td>\n",
       "    </tr>\n",
       "    <tr>\n",
       "      <th>max</th>\n",
       "      <td>65000.00000</td>\n",
       "      <td>6.000000e+06</td>\n",
       "      <td>6.000000</td>\n",
       "      <td>65.000000</td>\n",
       "    </tr>\n",
       "  </tbody>\n",
       "</table>\n",
       "</div>"
      ],
      "text/plain": [
       "       city_avg_incomes  city_populations  pop_in_millions  income_in_k\n",
       "count          10.00000      1.000000e+01        10.000000    10.000000\n",
       "mean        49800.00000      2.400000e+06         2.400000    49.800000\n",
       "std         10850.49922      2.442107e+06         2.442107    10.850499\n",
       "min         30000.00000      5.000000e+04         0.050000    30.000000\n",
       "25%         41250.00000      2.125000e+05         0.212500    41.250000\n",
       "50%         52500.00000      1.700000e+06         1.700000    52.500000\n",
       "75%         56750.00000      4.750000e+06         4.750000    56.750000\n",
       "max         65000.00000      6.000000e+06         6.000000    65.000000"
      ]
     },
     "execution_count": 17,
     "metadata": {},
     "output_type": "execute_result"
    }
   ],
   "source": [
    "city_table.describe()"
   ]
  },
  {
   "cell_type": "markdown",
   "metadata": {},
   "source": [
    "# Grouping Data"
   ]
  },
  {
   "cell_type": "markdown",
   "metadata": {},
   "source": [
    "We have cities from three States and thus we may be interested in looking at the average per State.\n",
    "\n",
    "The first thing to do is group the data by state:"
   ]
  },
  {
   "cell_type": "code",
   "execution_count": 18,
   "metadata": {
    "collapsed": true
   },
   "outputs": [],
   "source": [
    "cty_table_by_state = city_table.groupby('states') "
   ]
  },
  {
   "cell_type": "markdown",
   "metadata": {},
   "source": [
    "We can now define a function to calculate the mean:"
   ]
  },
  {
   "cell_type": "code",
   "execution_count": 19,
   "metadata": {},
   "outputs": [],
   "source": [
    "def my_mean(x):\n",
    "    return x.mean()"
   ]
  },
  {
   "cell_type": "markdown",
   "metadata": {},
   "source": [
    "Let us apply the function to the groupped dataframe to obtain the average city income by State:"
   ]
  },
  {
   "cell_type": "code",
   "execution_count": 20,
   "metadata": {},
   "outputs": [],
   "source": [
    "avg_city_income_by_state = cty_table_by_state['income_in_k'].apply(my_mean)"
   ]
  },
  {
   "cell_type": "code",
   "execution_count": 21,
   "metadata": {},
   "outputs": [
    {
     "data": {
      "text/plain": [
       "states\n",
       "FL    52.500000\n",
       "GA    44.000000\n",
       "NY    57.666667\n",
       "Name: income_in_k, dtype: float64"
      ]
     },
     "execution_count": 21,
     "metadata": {},
     "output_type": "execute_result"
    }
   ],
   "source": [
    "avg_city_income_by_state"
   ]
  },
  {
   "cell_type": "markdown",
   "metadata": {},
   "source": [
    "What is happening here?\n",
    "\n",
    "Since the dataframe has been groupped by State, the function `my_mean` is applied to each individual group, giving us the average for each State, all in one line of code!\n",
    "\n",
    "We can do the same to obtain the average city population by State:"
   ]
  },
  {
   "cell_type": "code",
   "execution_count": 22,
   "metadata": {
    "collapsed": true
   },
   "outputs": [],
   "source": [
    "avg_city_pop_by_state  = cty_table_by_state['pop_in_millions'].apply(my_mean)"
   ]
  },
  {
   "cell_type": "code",
   "execution_count": 23,
   "metadata": {},
   "outputs": [
    {
     "data": {
      "text/plain": [
       "states\n",
       "FL    4.500000\n",
       "GA    1.120000\n",
       "NY    3.133333\n",
       "Name: pop_in_millions, dtype: float64"
      ]
     },
     "execution_count": 23,
     "metadata": {},
     "output_type": "execute_result"
    }
   ],
   "source": [
    "avg_city_pop_by_state"
   ]
  },
  {
   "cell_type": "markdown",
   "metadata": {
    "collapsed": true
   },
   "source": [
    "Finally, let us see the descriptive stats for each State. We can do this with the `describe` method."
   ]
  },
  {
   "cell_type": "code",
   "execution_count": 24,
   "metadata": {},
   "outputs": [
    {
     "data": {
      "text/html": [
       "<div>\n",
       "<style>\n",
       "    .dataframe thead tr:only-child th {\n",
       "        text-align: right;\n",
       "    }\n",
       "\n",
       "    .dataframe thead th {\n",
       "        text-align: left;\n",
       "    }\n",
       "\n",
       "    .dataframe tbody tr th {\n",
       "        vertical-align: top;\n",
       "    }\n",
       "</style>\n",
       "<table border=\"1\" class=\"dataframe\">\n",
       "  <thead>\n",
       "    <tr>\n",
       "      <th></th>\n",
       "      <th colspan=\"8\" halign=\"left\">city_avg_incomes</th>\n",
       "      <th colspan=\"2\" halign=\"left\">city_populations</th>\n",
       "      <th>...</th>\n",
       "      <th colspan=\"2\" halign=\"left\">income_in_k</th>\n",
       "      <th colspan=\"8\" halign=\"left\">pop_in_millions</th>\n",
       "    </tr>\n",
       "    <tr>\n",
       "      <th></th>\n",
       "      <th>count</th>\n",
       "      <th>mean</th>\n",
       "      <th>std</th>\n",
       "      <th>min</th>\n",
       "      <th>25%</th>\n",
       "      <th>50%</th>\n",
       "      <th>75%</th>\n",
       "      <th>max</th>\n",
       "      <th>count</th>\n",
       "      <th>mean</th>\n",
       "      <th>...</th>\n",
       "      <th>75%</th>\n",
       "      <th>max</th>\n",
       "      <th>count</th>\n",
       "      <th>mean</th>\n",
       "      <th>std</th>\n",
       "      <th>min</th>\n",
       "      <th>25%</th>\n",
       "      <th>50%</th>\n",
       "      <th>75%</th>\n",
       "      <th>max</th>\n",
       "    </tr>\n",
       "    <tr>\n",
       "      <th>states</th>\n",
       "      <th></th>\n",
       "      <th></th>\n",
       "      <th></th>\n",
       "      <th></th>\n",
       "      <th></th>\n",
       "      <th></th>\n",
       "      <th></th>\n",
       "      <th></th>\n",
       "      <th></th>\n",
       "      <th></th>\n",
       "      <th></th>\n",
       "      <th></th>\n",
       "      <th></th>\n",
       "      <th></th>\n",
       "      <th></th>\n",
       "      <th></th>\n",
       "      <th></th>\n",
       "      <th></th>\n",
       "      <th></th>\n",
       "      <th></th>\n",
       "      <th></th>\n",
       "    </tr>\n",
       "  </thead>\n",
       "  <tbody>\n",
       "    <tr>\n",
       "      <th>FL</th>\n",
       "      <td>2.0</td>\n",
       "      <td>52500.000000</td>\n",
       "      <td>17677.669530</td>\n",
       "      <td>40000.0</td>\n",
       "      <td>46250.0</td>\n",
       "      <td>52500.0</td>\n",
       "      <td>58750.0</td>\n",
       "      <td>65000.0</td>\n",
       "      <td>2.0</td>\n",
       "      <td>4.500000e+06</td>\n",
       "      <td>...</td>\n",
       "      <td>58.75</td>\n",
       "      <td>65.0</td>\n",
       "      <td>2.0</td>\n",
       "      <td>4.500000</td>\n",
       "      <td>0.707107</td>\n",
       "      <td>4.00</td>\n",
       "      <td>4.25</td>\n",
       "      <td>4.5</td>\n",
       "      <td>4.75</td>\n",
       "      <td>5.0</td>\n",
       "    </tr>\n",
       "    <tr>\n",
       "      <th>GA</th>\n",
       "      <td>5.0</td>\n",
       "      <td>44000.000000</td>\n",
       "      <td>9617.692031</td>\n",
       "      <td>30000.0</td>\n",
       "      <td>40000.0</td>\n",
       "      <td>45000.0</td>\n",
       "      <td>50000.0</td>\n",
       "      <td>55000.0</td>\n",
       "      <td>5.0</td>\n",
       "      <td>1.120000e+06</td>\n",
       "      <td>...</td>\n",
       "      <td>50.00</td>\n",
       "      <td>55.0</td>\n",
       "      <td>5.0</td>\n",
       "      <td>1.120000</td>\n",
       "      <td>2.170426</td>\n",
       "      <td>0.05</td>\n",
       "      <td>0.10</td>\n",
       "      <td>0.2</td>\n",
       "      <td>0.25</td>\n",
       "      <td>5.0</td>\n",
       "    </tr>\n",
       "    <tr>\n",
       "      <th>NY</th>\n",
       "      <td>3.0</td>\n",
       "      <td>57666.666667</td>\n",
       "      <td>2081.665999</td>\n",
       "      <td>56000.0</td>\n",
       "      <td>56500.0</td>\n",
       "      <td>57000.0</td>\n",
       "      <td>58500.0</td>\n",
       "      <td>60000.0</td>\n",
       "      <td>3.0</td>\n",
       "      <td>3.133333e+06</td>\n",
       "      <td>...</td>\n",
       "      <td>58.50</td>\n",
       "      <td>60.0</td>\n",
       "      <td>3.0</td>\n",
       "      <td>3.133333</td>\n",
       "      <td>2.802380</td>\n",
       "      <td>0.40</td>\n",
       "      <td>1.70</td>\n",
       "      <td>3.0</td>\n",
       "      <td>4.50</td>\n",
       "      <td>6.0</td>\n",
       "    </tr>\n",
       "  </tbody>\n",
       "</table>\n",
       "<p>3 rows × 32 columns</p>\n",
       "</div>"
      ],
      "text/plain": [
       "       city_avg_incomes                                                \\\n",
       "                  count          mean           std      min      25%   \n",
       "states                                                                  \n",
       "FL                  2.0  52500.000000  17677.669530  40000.0  46250.0   \n",
       "GA                  5.0  44000.000000   9617.692031  30000.0  40000.0   \n",
       "NY                  3.0  57666.666667   2081.665999  56000.0  56500.0   \n",
       "\n",
       "                                  city_populations               ...   \\\n",
       "            50%      75%      max            count          mean ...    \n",
       "states                                                           ...    \n",
       "FL      52500.0  58750.0  65000.0              2.0  4.500000e+06 ...    \n",
       "GA      45000.0  50000.0  55000.0              5.0  1.120000e+06 ...    \n",
       "NY      57000.0  58500.0  60000.0              3.0  3.133333e+06 ...    \n",
       "\n",
       "       income_in_k       pop_in_millions                                       \\\n",
       "               75%   max           count      mean       std   min   25%  50%   \n",
       "states                                                                          \n",
       "FL           58.75  65.0             2.0  4.500000  0.707107  4.00  4.25  4.5   \n",
       "GA           50.00  55.0             5.0  1.120000  2.170426  0.05  0.10  0.2   \n",
       "NY           58.50  60.0             3.0  3.133333  2.802380  0.40  1.70  3.0   \n",
       "\n",
       "                   \n",
       "         75%  max  \n",
       "states             \n",
       "FL      4.75  5.0  \n",
       "GA      0.25  5.0  \n",
       "NY      4.50  6.0  \n",
       "\n",
       "[3 rows x 32 columns]"
      ]
     },
     "execution_count": 24,
     "metadata": {},
     "output_type": "execute_result"
    }
   ],
   "source": [
    "cty_table_by_state.describe()"
   ]
  },
  {
   "cell_type": "markdown",
   "metadata": {},
   "source": [
    "# Visualising data\n",
    "\n",
    "<div class=\"alert alert-block alert-info\"><h3>Question</h3></div>\n",
    "\n",
    "What do you think this is important for?"
   ]
  },
  {
   "cell_type": "markdown",
   "metadata": {},
   "source": [
    "<div class=\"alert alert-block alert-info\"><h3>Question</h3></div>\n",
    "\n",
    "From the discussion about Python libraries, what library may be useful here?\n",
    "\n",
    "Let us also import the matplotlib library:"
   ]
  },
  {
   "cell_type": "markdown",
   "metadata": {},
   "source": [
    "We can display the plots in the notebook with the following command:\n",
    "    "
   ]
  },
  {
   "cell_type": "code",
   "execution_count": 25,
   "metadata": {},
   "outputs": [
    {
     "name": "stdout",
     "output_type": "stream",
     "text": [
      "Populating the interactive namespace from numpy and matplotlib\n"
     ]
    }
   ],
   "source": [
    "%pylab inline"
   ]
  },
  {
   "cell_type": "markdown",
   "metadata": {},
   "source": [
    "Remember where you have seen this before?\n",
    "\n",
    "`pylab` is part of `matplotlib` and it provides us with a MATLAB like environment. \n",
    "\n",
    "`matplotlib` is a plotting library for the Python programming language and its numerical mathematics extension NumPy. It provides an object-oriented API for embedding plots into applications using general-purpose GUI toolkits \n",
    "\n",
    "matplotlib has a number of dependencies, among them `numpy` which it imports under the common alias `np`."
   ]
  },
  {
   "cell_type": "code",
   "execution_count": 26,
   "metadata": {
    "collapsed": true
   },
   "outputs": [],
   "source": [
    "import matplotlib.pyplot as plt"
   ]
  },
  {
   "cell_type": "code",
   "execution_count": 38,
   "metadata": {},
   "outputs": [
    {
     "data": {
      "text/plain": [
       "10"
      ]
     },
     "execution_count": 38,
     "metadata": {},
     "output_type": "execute_result"
    }
   ],
   "source": [
    "city_table['cities'].shape[0]"
   ]
  },
  {
   "cell_type": "code",
   "execution_count": 48,
   "metadata": {},
   "outputs": [
    {
     "data": {
      "image/png": "[encoded data removed]",
      "text/plain": [
       "<matplotlib.figure.Figure at 0x11c3bde90>"
      ]
     },
     "metadata": {},
     "output_type": "display_data"
    }
   ],
   "source": [
    "city_table['income_in_k'].plot(kind='bar');"
   ]
  },
  {
   "cell_type": "code",
   "execution_count": 49,
   "metadata": {},
   "outputs": [
    {
     "data": {
      "image/png": "[encoded data removed]",
      "text/plain": [
       "<matplotlib.figure.Figure at 0x11c4ee910>"
      ]
     },
     "metadata": {},
     "output_type": "display_data"
    }
   ],
   "source": [
    "city_table.set_index('cities')['income_in_k'].plot(kind='bar');"
   ]
  },
  {
   "cell_type": "code",
   "execution_count": 51,
   "metadata": {},
   "outputs": [
    {
     "data": {
      "image/png": "[encoded data removed]",
      "text/plain": [
       "<matplotlib.figure.Figure at 0x11c653350>"
      ]
     },
     "metadata": {},
     "output_type": "display_data"
    }
   ],
   "source": [
    "plt.subplots(figsize=(12,8))\n",
    "city_table.set_index('cities')['income_in_k'].plot(kind='barh')\n",
    "plt.title('income (USD, in thousands)');"
   ]
  },
  {
   "cell_type": "code",
   "execution_count": null,
   "metadata": {
    "collapsed": true
   },
   "outputs": [],
   "source": []
  }
 ],
 "metadata": {
  "anaconda-cloud": {},
  "kernelspec": {
   "display_name": "Python 2",
   "language": "python",
   "name": "python2"
  },
  "language_info": {
   "codemirror_mode": {
    "name": "ipython",
    "version": 2
   },
   "file_extension": ".py",
   "mimetype": "text/x-python",
   "name": "python",
   "nbconvert_exporter": "python",
   "pygments_lexer": "ipython2",
   "version": "2.7.14"
  }
 },
 "nbformat": 4,
 "nbformat_minor": 1
}
